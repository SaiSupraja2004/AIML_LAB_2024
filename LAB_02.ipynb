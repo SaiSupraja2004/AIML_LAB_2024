{
  "nbformat": 4,
  "nbformat_minor": 0,
  "metadata": {
    "colab": {
      "provenance": []
    },
    "kernelspec": {
      "name": "python3",
      "display_name": "Python 3"
    },
    "language_info": {
      "name": "python"
    }
  },
  "cells": [
    {
      "cell_type": "code",
      "execution_count": null,
      "metadata": {
        "id": "6b50RqBPRpbU"
      },
      "outputs": [],
      "source": [
        "##IMPLEMENT BFS,DFS"
      ]
    },
    {
      "cell_type": "code",
      "source": [
        "from queue import Queue\n",
        "graph={0:[1,2,3], 1:[0,2], 2:[1,0,5], 3:[0,4], 4:[3,7], 5:[2,6], 6:[5,7], 7:[4,6]}\n",
        "print(\"The adjacency List representing the graph is:\")\n",
        "print(graph)"
      ],
      "metadata": {
        "colab": {
          "base_uri": "https://localhost:8080/"
        },
        "id": "m4z5emKaR2_s",
        "outputId": "3a87b256-9d71-4c2d-ebd0-ec038f305c70"
      },
      "execution_count": null,
      "outputs": [
        {
          "output_type": "stream",
          "name": "stdout",
          "text": [
            "The adjacency List representing the graph is:\n",
            "{0: [1, 2, 3], 1: [0, 2], 2: [1, 0, 5], 3: [0, 4], 4: [3, 7], 5: [2, 6], 6: [5, 7], 7: [4, 6]}\n"
          ]
        }
      ]
    },
    {
      "cell_type": "code",
      "source": [
        "def bfs(graph, source):\n",
        "   Q=Queue()\n",
        "   visited_vertices=set()\n",
        "   Q.put(source)\n",
        "   visited_vertices.update({source})\n",
        "   while not Q.empty():\n",
        "       vertex=Q.get()\n",
        "       print (vertex, end=\"-->\")\n",
        "       for u in graph[vertex]:\n",
        "          if u not in visited_vertices:\n",
        "              Q.put(u)\n",
        "              visited_vertices.update({u})\n",
        "\n",
        "print(\"BFS traversal of graph with source 0 is:\")\n",
        "bfs(graph, 0)"
      ],
      "metadata": {
        "colab": {
          "base_uri": "https://localhost:8080/"
        },
        "id": "oM0GFvXFXAv7",
        "outputId": "27083eac-381c-4e4c-9140-166fb8aab45d"
      },
      "execution_count": null,
      "outputs": [
        {
          "output_type": "stream",
          "name": "stdout",
          "text": [
            "BFS traversal of graph with source 0 is:\n",
            "0-->1-->2-->3-->5-->4-->6-->7-->"
          ]
        }
      ]
    },
    {
      "cell_type": "code",
      "source": [
        "##PART2-IMPLEMENT DFS ALGORITHM"
      ],
      "metadata": {
        "id": "LkUpm4TeYj8Y"
      },
      "execution_count": null,
      "outputs": []
    },
    {
      "cell_type": "code",
      "source": [
        "graph1 = {\n",
        "'A' : ['C','D','G'],\n",
        "'B' : ['A'],\n",
        "'C' : ['A','D','F'],\n",
        "'D' : ['A','C','E','G','H'],\n",
        "'E' : ['D','F','H'],\n",
        "'F' : ['C','E'],\n",
        "'G' : ['A','D','H'],\n",
        "'H' : ['C','D','G'],\n",
        "}\n",
        "print(\"The adjacent list of representing graph is :\")\n",
        "print(graph1)\n"
      ],
      "metadata": {
        "colab": {
          "base_uri": "https://localhost:8080/"
        },
        "id": "5XFdD879YuSy",
        "outputId": "ae414754-c4ad-4f22-e48e-33efd537d80e"
      },
      "execution_count": null,
      "outputs": [
        {
          "output_type": "stream",
          "name": "stdout",
          "text": [
            "The adjacent list of representing graph is :\n",
            "{'A': ['C', 'D', 'G'], 'B': ['A'], 'C': ['A', 'D', 'F'], 'D': ['A', 'C', 'E', 'G', 'H'], 'E': ['D', 'F', 'H'], 'F': ['C', 'E'], 'G': ['A', 'D', 'H'], 'H': ['C', 'D', 'G']}\n"
          ]
        }
      ]
    },
    {
      "cell_type": "code",
      "source": [
        "def dfs(graph, node, visited):\n",
        "  if node not in visited:\n",
        "     visited.append(node)\n",
        "     for k in graph[node]:\n",
        "       dfs(graph,k,visited)\n",
        "  return visited\n",
        "\n",
        "visited = dfs(graph1,'B', [])\n",
        "print(visited)"
      ],
      "metadata": {
        "colab": {
          "base_uri": "https://localhost:8080/"
        },
        "id": "JY6jZWVmZcWT",
        "outputId": "69e82e0c-9baf-4d6f-a6fe-8904abd4a1ac"
      },
      "execution_count": null,
      "outputs": [
        {
          "output_type": "stream",
          "name": "stdout",
          "text": [
            "['B', 'A', 'C', 'D', 'E', 'F', 'H', 'G']\n"
          ]
        }
      ]
    },
    {
      "cell_type": "code",
      "source": [
        "##IMPLEMENT OF A* ALOGORITHM"
      ],
      "metadata": {
        "id": "o_vYWD8jaSU5"
      },
      "execution_count": null,
      "outputs": []
    }
  ]
}